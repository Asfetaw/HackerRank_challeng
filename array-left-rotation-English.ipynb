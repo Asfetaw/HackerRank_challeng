{
 "cells": [
  {
   "cell_type": "code",
   "execution_count": 2,
   "metadata": {},
   "outputs": [
    {
     "name": "stdout",
     "output_type": "stream",
     "text": [
      "10 4\n",
      "1 2 3 4 5 6 7 8 9 10\n",
      "5 6 7 8 9 10 1 2 3 4 "
     ]
    }
   ],
   "source": [
    "#!/bin/python3\n",
    "\n",
    "import math\n",
    "import os\n",
    "import random\n",
    "import re\n",
    "import sys\n",
    "\n",
    "def rotate(a,d):\n",
    "    temp=[]\n",
    "    for i in range(d):\n",
    "        temp.insert(len(temp),a.pop(0))\n",
    "    return a+temp\n",
    "\n",
    "\n",
    "if __name__ == '__main__':\n",
    "    nd = input().split()\n",
    "\n",
    "    n = int(nd[0])\n",
    "\n",
    "    d = int(nd[1])\n",
    "\n",
    "    a = list(map(int, input().rstrip().split()))\n",
    "    rotated_a=rotate(a,d)\n",
    "    for i in range(len(rotated_a)):\n",
    "        print(rotated_a[i],end=\" \")\n"
   ]
  },
  {
   "cell_type": "code",
   "execution_count": null,
   "metadata": {},
   "outputs": [],
   "source": []
  }
 ],
 "metadata": {
  "kernelspec": {
   "display_name": "Python 3",
   "language": "python",
   "name": "python3"
  },
  "language_info": {
   "codemirror_mode": {
    "name": "ipython",
    "version": 3
   },
   "file_extension": ".py",
   "mimetype": "text/x-python",
   "name": "python",
   "nbconvert_exporter": "python",
   "pygments_lexer": "ipython3",
   "version": "3.6.8"
  }
 },
 "nbformat": 4,
 "nbformat_minor": 2
}
